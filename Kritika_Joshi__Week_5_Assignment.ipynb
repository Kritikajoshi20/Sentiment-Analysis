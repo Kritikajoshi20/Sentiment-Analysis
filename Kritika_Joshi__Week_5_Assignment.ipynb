{
  "nbformat": 4,
  "nbformat_minor": 0,
  "metadata": {
    "colab": {
      "provenance": [],
      "gpuType": "T4"
    },
    "kernelspec": {
      "name": "python3",
      "display_name": "Python 3"
    },
    "language_info": {
      "name": "python"
    },
    "accelerator": "GPU"
  },
  "cells": [
    {
      "cell_type": "code",
      "execution_count": 12,
      "metadata": {
        "id": "5Bo7qEJbUPuX"
      },
      "outputs": [],
      "source": [
        "import pandas as pd\n",
        "import numpy as np"
      ]
    },
    {
      "cell_type": "code",
      "source": [
        "df=pd.read_csv('/content/Sports.csv')"
      ],
      "metadata": {
        "id": "lboIEa55Xv1W"
      },
      "execution_count": 11,
      "outputs": []
    },
    {
      "cell_type": "code",
      "source": [
        "print(df.columns)"
      ],
      "metadata": {
        "colab": {
          "base_uri": "https://localhost:8080/"
        },
        "id": "fuTWcDmYYT6V",
        "outputId": "3237e4d2-2e19-487f-eb0b-70ae9a7ed2a4"
      },
      "execution_count": 13,
      "outputs": [
        {
          "output_type": "stream",
          "name": "stdout",
          "text": [
            "Index(['Text', 'Label'], dtype='object')\n"
          ]
        }
      ]
    },
    {
      "cell_type": "code",
      "source": [
        "from tensorflow.keras.preprocessing.text import Tokenizer\n",
        "from tensorflow.keras.preprocessing.sequence import pad_sequences\n",
        "from tensorflow.keras.models import Sequential\n",
        "from tensorflow.keras.layers import Embedding, LSTM, Dense"
      ],
      "metadata": {
        "id": "3JxV06kMX6bF"
      },
      "execution_count": 14,
      "outputs": []
    },
    {
      "cell_type": "code",
      "source": [
        "tokens = Tokenizer(oov_token='oov')\n",
        "tokens.fit_on_texts(df['Text'])"
      ],
      "metadata": {
        "id": "HtV4IXS8YDoc"
      },
      "execution_count": 16,
      "outputs": []
    },
    {
      "cell_type": "code",
      "source": [
        "vocab = tokens.word_index\n",
        "print(vocab)"
      ],
      "metadata": {
        "id": "HPeuKivQYGGP",
        "colab": {
          "base_uri": "https://localhost:8080/"
        },
        "outputId": "b159a699-138a-412b-fd7e-aef64ca28cbe"
      },
      "execution_count": 18,
      "outputs": [
        {
          "output_type": "stream",
          "name": "stdout",
          "text": [
            "{'oov': 1, 'sports': 2, 'the': 3, 'and': 4, 'of': 5, 'to': 6, 'in': 7, 'can': 8, 'a': 9, 'have': 10, 'has': 11, 'events': 12, 'for': 13, 'athletes': 14, 'on': 15, 'scandals': 16, 'health': 17, 'issues': 18, 'commercialization': 19, 'participation': 20, \"team's\": 21, 'recent': 22, 'play': 23, 'over': 24, 'team': 25, 'led': 26, 'physical': 27, 'foster': 28, 'sense': 29, 'community': 30, 'among': 31, 'skills': 32, 'organizations': 33, 'pressure': 34, 'lead': 35, 'behavior': 36, 'culture': 37, 'perpetuates': 38, 'should': 39, 'more': 40, 'from': 41, 'programs': 42, 'integrity': 43, 'social': 44, 'their': 45, 'high': 46, 'about': 47, 'doping': 48, 'role': 49, 'teamwork': 50, 'is': 51, 'competitions': 52, 'fair': 53, 'values': 54, 'provide': 55, 'controversies': 56, 'often': 57, 'tarnish': 58, 'well': 59, 'being': 60, 'win': 61, 'all': 62, 'unethical': 63, 'harmful': 64, 'stereotypes': 65, 'unrealistic': 66, 'injuries': 67, 'do': 68, 'address': 69, 'diversity': 70, 'by': 71, 'discipline': 72, 'emphasis': 73, 'winning': 74, 'detracts': 75, 'broadcasting': 76, 'with': 77, 'game': 78, 'fandom': 79, 'create': 80, 'belonging': 81, 'individuals': 82, 'corruption': 83, 'cultural': 84, 'platform': 85, 'offer': 86, 'overshadow': 87, 'hyper': 88, 'competitiveness': 89, 'mental': 90, 'schools': 91, 'commodification': 92, 'victories': 93, 'raised': 94, 'suspicions': 95, 'foul': 96, 'despite': 97, 'loss': 98, 'morale': 99, 'remains': 100, 'rumors': 101, 'match': 102, 'fixing': 103, 'cast': 104, 'shadow': 105, 'successes': 106, 'unexpected': 107, 'resignation': 108, 'coach': 109, 'left': 110, 'disarray': 111, 'speculations': 112, 'allegations': 113, 'tensions': 114, 'within': 115, 'promoting': 116, 'fitness': 117, 'invaluable': 118, 'camaraderie': 119, 'participants': 120, 'encourage': 121, 'collaboration': 122, 'communication': 123, 'sportsmanship': 124, 'are': 125, 'essential': 126, 'athletics': 127, 'entertainment': 128, 'excitement': 129, 'spectators': 130, 'reputation': 131, 'professional': 132, 'prioritize': 133, 'profits': 134, 'at': 135, 'costs': 136, 'body': 137, 'ideals': 138, 'long': 139, 'term': 140, 'consequences': 141, \"athletes'\": 142, 'impact': 143, 'society': 144, 'complex': 145, 'multifaceted': 146, 'leagues': 147, 'inclusivity': 148, 'undermines': 149, 'spirit': 150, 'competition': 151, 'endorsements': 152, 'celebrities': 153, 'influence': 154, 'consumer': 155, 'unite': 156, 'people': 157, 'diverse': 158, 'backgrounds': 159, 'under': 160, 'common': 161, 'interest': 162, 'instill': 163, 'valuable': 164, 'life': 165, 'such': 166, 'as': 167, 'resilience': 168, 'joy': 169, 'facilities': 170, 'be': 171, 'accessible': 172, 'members': 173, 'prioritizes': 174, 'profile': 175, 'grassroots': 176, 'initiatives': 177, 'obsession': 178, 'statistics': 179, 'essence': 180, 'identity': 181, 'bribery': 182, 'encourages': 183, 'risk': 184, 'taking': 185, 'pushing': 186, 'limits': 187, 'media': 188, 'expectations': 189, 'performances': 190, 'diplomacy': 191, 'potential': 192, 'bridge': 193, 'political': 194, 'divides': 195, 'turned': 196, 'into': 197, 'lucrative': 198, 'industry': 199, 'driven': 200, 'profit': 201, 'highlight': 202, 'need': 203, 'better': 204, 'safety': 205, 'measures': 206, 'protocols': 207, 'activism': 208, 'raising': 209, 'awareness': 210, 'important': 211, 'toxic': 212, 'environment': 213, 'youth': 214, 'scholarships': 215, 'opportunities': 216, 'education': 217, 'upward': 218, 'mobility': 219, 'positive': 220, 'contributions': 221, 'power': 222, 'inspire': 223, 'motivate': 224, 'achieve': 225, 'greatness': 226, 'burnout': 227, 'receive': 228, 'funding': 229, 'support': 230, 'lifelong': 231, 'friendships': 232, 'connections': 233, 'must': 234, 'gender': 235, 'discrimination': 236, 'contribute': 237, 'local': 238, 'economies': 239, 'tourism': 240, 'succeed': 241, 'detrimental': 242, 'effects': 243, 'become': 244, 'saturated': 245, 'sensationalism': 246, 'drama': 247, 'promote': 248, 'perseverance': 249, 'cheating': 250, 'undermine': 251, 'pursuit': 252, 'excellence': 253, 'requires': 254, 'dedication': 255, 'sacrifice': 256, 'children': 257, 'promotes': 258, 'rule': 259, 'breaking': 260, 'fans': 261, 'showcasing': 262, 'heritage': 263, 'enjoyment': 264, 'playing': 265, 'crucial': 266, 'character': 267, 'development': 268, 'leadership': 269, 'exploitation': 270}\n"
          ]
        }
      ]
    },
    {
      "cell_type": "code",
      "source": [
        "sequence = tokens.texts_to_sequences(df [\"Text\"])\n",
        "print(sequence)"
      ],
      "metadata": {
        "id": "4jzJMb0AYOAG",
        "colab": {
          "base_uri": "https://localhost:8080/"
        },
        "outputId": "5b9c5f83-32bf-408a-a674-9411704950c3"
      },
      "execution_count": 20,
      "outputs": [
        {
          "output_type": "stream",
          "name": "stdout",
          "text": [
            "[[3, 21, 22, 93, 10, 94, 95, 5, 96, 23], [97, 45, 22, 98, 3, 21, 99, 100, 46], [101, 5, 102, 103, 10, 104, 9, 105, 24, 3, 21, 22, 106], [3, 107, 108, 5, 3, 109, 11, 110, 3, 25, 7, 111], [112, 47, 48, 113, 10, 26, 6, 114, 115, 3, 25], [3, 49, 5, 2, 7, 116, 27, 117, 4, 50, 51, 118], [2, 52, 28, 9, 29, 5, 30, 4, 119, 31, 120], [25, 2, 121, 122, 4, 123, 32], [124, 4, 53, 23, 125, 126, 54, 7, 127], [2, 12, 55, 128, 4, 129, 13, 130], [56, 4, 16, 57, 58, 3, 131, 5, 132, 2], [2, 33, 133, 134, 24, 3, 59, 60, 5, 14], [3, 34, 6, 61, 135, 62, 136, 8, 35, 6, 63, 36, 7, 2], [2, 37, 38, 64, 65, 4, 66, 137, 138], [2, 67, 8, 10, 139, 140, 141, 15, 142, 17, 4, 59, 60], [3, 143, 5, 2, 15, 144, 51, 145, 4, 146], [2, 147, 39, 68, 40, 6, 69, 18, 5, 148, 4, 70], [3, 19, 5, 2, 149, 3, 150, 5, 53, 151], [2, 152, 71, 153, 4, 14, 154, 155, 36], [2, 12, 8, 156, 157, 41, 158, 159, 160, 9, 161, 162], [20, 7, 2, 8, 163, 164, 165, 32, 166, 167, 72, 4, 168], [3, 73, 15, 74, 7, 2, 75, 41, 3, 169, 5, 20], [2, 170, 4, 42, 39, 171, 172, 6, 62, 173, 5, 3, 30], [2, 76, 57, 174, 46, 175, 12, 24, 176, 177], [3, 178, 77, 2, 179, 75, 41, 3, 180, 5, 3, 78], [2, 79, 8, 80, 9, 29, 5, 81, 4, 181, 13, 82], [83, 4, 182, 16, 58, 3, 43, 5, 2, 33], [3, 37, 5, 2, 183, 184, 185, 4, 186, 27, 187], [2, 188, 38, 66, 189, 5, 14, 4, 45, 190], [2, 191, 11, 3, 192, 6, 193, 84, 4, 194, 195], [19, 11, 196, 2, 197, 9, 198, 199, 200, 71, 201], [2, 67, 202, 3, 203, 13, 204, 205, 206, 4, 207], [2, 55, 9, 85, 13, 44, 208, 4, 209, 210, 47, 211, 18], [3, 73, 15, 74, 8, 80, 9, 212, 213, 7, 214, 2], [2, 215, 86, 216, 13, 217, 4, 218, 219], [16, 4, 56, 87, 3, 220, 221, 5, 2], [2, 12, 10, 3, 222, 6, 223, 4, 224, 82, 6, 225, 226], [3, 88, 89, 5, 2, 8, 35, 6, 227, 4, 90, 17, 18], [2, 42, 7, 91, 39, 228, 40, 229, 4, 230], [3, 19, 5, 2, 11, 26, 6, 3, 92, 5, 14], [20, 7, 2, 8, 28, 231, 232, 4, 44, 233], [2, 33, 234, 68, 40, 6, 69, 18, 5, 83, 4, 43], [3, 37, 5, 2, 38, 64, 235, 65, 4, 236], [2, 12, 237, 6, 238, 239, 4, 240], [3, 34, 6, 241, 7, 2, 8, 10, 242, 243, 15, 90, 17], [2, 76, 11, 244, 245, 77, 246, 4, 247], [2, 248, 54, 5, 50, 72, 4, 249], [250, 4, 48, 16, 251, 3, 43, 5, 2, 52], [3, 252, 5, 253, 7, 2, 254, 255, 4, 256], [2, 20, 31, 257, 258, 27, 17, 4, 44, 32], [3, 88, 89, 5, 2, 8, 35, 6, 63, 36, 4, 259, 260], [2, 79, 8, 28, 9, 29, 5, 30, 4, 81, 31, 261], [2, 12, 86, 9, 85, 13, 262, 84, 70, 4, 263], [3, 34, 6, 61, 7, 2, 8, 87, 3, 264, 5, 265, 3, 78], [2, 42, 7, 91, 23, 9, 266, 49, 7, 267, 268, 4, 269], [3, 19, 5, 2, 11, 26, 6, 270, 4, 92, 5, 14]]\n"
          ]
        }
      ]
    },
    {
      "cell_type": "code",
      "source": [
        "seq_pad=pad_sequences(sequence, maxlen=6, padding='post', truncating='post')\n",
        "print(seq_pad)"
      ],
      "metadata": {
        "colab": {
          "base_uri": "https://localhost:8080/"
        },
        "id": "JmxRFLpXcDiS",
        "outputId": "fa12b367-bb35-4034-db12-c602b1b20480"
      },
      "execution_count": 21,
      "outputs": [
        {
          "output_type": "stream",
          "name": "stdout",
          "text": [
            "[[  3  21  22  93  10  94]\n",
            " [ 97  45  22  98   3  21]\n",
            " [101   5 102 103  10 104]\n",
            " [  3 107 108   5   3 109]\n",
            " [112  47  48 113  10  26]\n",
            " [  3  49   5   2   7 116]\n",
            " [  2  52  28   9  29   5]\n",
            " [ 25   2 121 122   4 123]\n",
            " [124   4  53  23 125 126]\n",
            " [  2  12  55 128   4 129]\n",
            " [ 56   4  16  57  58   3]\n",
            " [  2  33 133 134  24   3]\n",
            " [  3  34   6  61 135  62]\n",
            " [  2  37  38  64  65   4]\n",
            " [  2  67   8  10 139 140]\n",
            " [  3 143   5   2  15 144]\n",
            " [  2 147  39  68  40   6]\n",
            " [  3  19   5   2 149   3]\n",
            " [  2 152  71 153   4  14]\n",
            " [  2  12   8 156 157  41]\n",
            " [ 20   7   2   8 163 164]\n",
            " [  3  73  15  74   7   2]\n",
            " [  2 170   4  42  39 171]\n",
            " [  2  76  57 174  46 175]\n",
            " [  3 178  77   2 179  75]\n",
            " [  2  79   8  80   9  29]\n",
            " [ 83   4 182  16  58   3]\n",
            " [  3  37   5   2 183 184]\n",
            " [  2 188  38  66 189   5]\n",
            " [  2 191  11   3 192   6]\n",
            " [ 19  11 196   2 197   9]\n",
            " [  2  67 202   3 203  13]\n",
            " [  2  55   9  85  13  44]\n",
            " [  3  73  15  74   8  80]\n",
            " [  2 215  86 216  13 217]\n",
            " [ 16   4  56  87   3 220]\n",
            " [  2  12  10   3 222   6]\n",
            " [  3  88  89   5   2   8]\n",
            " [  2  42   7  91  39 228]\n",
            " [  3  19   5   2  11  26]\n",
            " [ 20   7   2   8  28 231]\n",
            " [  2  33 234  68  40   6]\n",
            " [  3  37   5   2  38  64]\n",
            " [  2  12 237   6 238 239]\n",
            " [  3  34   6 241   7   2]\n",
            " [  2  76  11 244 245  77]\n",
            " [  2 248  54   5  50  72]\n",
            " [250   4  48  16 251   3]\n",
            " [  3 252   5 253   7   2]\n",
            " [  2  20  31 257 258  27]\n",
            " [  3  88  89   5   2   8]\n",
            " [  2  79   8  28   9  29]\n",
            " [  2  12  86   9  85  13]\n",
            " [  3  34   6  61   7   2]\n",
            " [  2  42   7  91  23   9]\n",
            " [  3  19   5   2  11  26]]\n"
          ]
        }
      ]
    },
    {
      "cell_type": "code",
      "source": [
        "from sklearn.preprocessing import LabelEncoder\n",
        "le=LabelEncoder()\n",
        "df[\"Label\"]=le.fit_transform(df[\"Label\"])\n",
        "\n",
        "X=seq_pad\n",
        "y=df[\"Label\"]"
      ],
      "metadata": {
        "id": "HOaduboJcNPo"
      },
      "execution_count": 22,
      "outputs": []
    },
    {
      "cell_type": "code",
      "source": [
        "df.head()"
      ],
      "metadata": {
        "colab": {
          "base_uri": "https://localhost:8080/",
          "height": 206
        },
        "id": "muHupWvycQAY",
        "outputId": "936e9209-921c-46fb-b6fb-b09bf4d39951"
      },
      "execution_count": 23,
      "outputs": [
        {
          "output_type": "execute_result",
          "data": {
            "text/plain": [
              "                                                Text  Label\n",
              "0  The team's recent victories have raised suspic...      1\n",
              "1  Despite their recent loss, the team's morale r...      1\n",
              "2  Rumors of match-fixing have cast a shadow over...      0\n",
              "3  The unexpected resignation of the coach has le...      0\n",
              "4  Speculations about doping allegations have led...      0"
            ],
            "text/html": [
              "\n",
              "  <div id=\"df-f93f45d6-e7c8-4ab7-be2b-7b047e362048\" class=\"colab-df-container\">\n",
              "    <div>\n",
              "<style scoped>\n",
              "    .dataframe tbody tr th:only-of-type {\n",
              "        vertical-align: middle;\n",
              "    }\n",
              "\n",
              "    .dataframe tbody tr th {\n",
              "        vertical-align: top;\n",
              "    }\n",
              "\n",
              "    .dataframe thead th {\n",
              "        text-align: right;\n",
              "    }\n",
              "</style>\n",
              "<table border=\"1\" class=\"dataframe\">\n",
              "  <thead>\n",
              "    <tr style=\"text-align: right;\">\n",
              "      <th></th>\n",
              "      <th>Text</th>\n",
              "      <th>Label</th>\n",
              "    </tr>\n",
              "  </thead>\n",
              "  <tbody>\n",
              "    <tr>\n",
              "      <th>0</th>\n",
              "      <td>The team's recent victories have raised suspic...</td>\n",
              "      <td>1</td>\n",
              "    </tr>\n",
              "    <tr>\n",
              "      <th>1</th>\n",
              "      <td>Despite their recent loss, the team's morale r...</td>\n",
              "      <td>1</td>\n",
              "    </tr>\n",
              "    <tr>\n",
              "      <th>2</th>\n",
              "      <td>Rumors of match-fixing have cast a shadow over...</td>\n",
              "      <td>0</td>\n",
              "    </tr>\n",
              "    <tr>\n",
              "      <th>3</th>\n",
              "      <td>The unexpected resignation of the coach has le...</td>\n",
              "      <td>0</td>\n",
              "    </tr>\n",
              "    <tr>\n",
              "      <th>4</th>\n",
              "      <td>Speculations about doping allegations have led...</td>\n",
              "      <td>0</td>\n",
              "    </tr>\n",
              "  </tbody>\n",
              "</table>\n",
              "</div>\n",
              "    <div class=\"colab-df-buttons\">\n",
              "\n",
              "  <div class=\"colab-df-container\">\n",
              "    <button class=\"colab-df-convert\" onclick=\"convertToInteractive('df-f93f45d6-e7c8-4ab7-be2b-7b047e362048')\"\n",
              "            title=\"Convert this dataframe to an interactive table.\"\n",
              "            style=\"display:none;\">\n",
              "\n",
              "  <svg xmlns=\"http://www.w3.org/2000/svg\" height=\"24px\" viewBox=\"0 -960 960 960\">\n",
              "    <path d=\"M120-120v-720h720v720H120Zm60-500h600v-160H180v160Zm220 220h160v-160H400v160Zm0 220h160v-160H400v160ZM180-400h160v-160H180v160Zm440 0h160v-160H620v160ZM180-180h160v-160H180v160Zm440 0h160v-160H620v160Z\"/>\n",
              "  </svg>\n",
              "    </button>\n",
              "\n",
              "  <style>\n",
              "    .colab-df-container {\n",
              "      display:flex;\n",
              "      gap: 12px;\n",
              "    }\n",
              "\n",
              "    .colab-df-convert {\n",
              "      background-color: #E8F0FE;\n",
              "      border: none;\n",
              "      border-radius: 50%;\n",
              "      cursor: pointer;\n",
              "      display: none;\n",
              "      fill: #1967D2;\n",
              "      height: 32px;\n",
              "      padding: 0 0 0 0;\n",
              "      width: 32px;\n",
              "    }\n",
              "\n",
              "    .colab-df-convert:hover {\n",
              "      background-color: #E2EBFA;\n",
              "      box-shadow: 0px 1px 2px rgba(60, 64, 67, 0.3), 0px 1px 3px 1px rgba(60, 64, 67, 0.15);\n",
              "      fill: #174EA6;\n",
              "    }\n",
              "\n",
              "    .colab-df-buttons div {\n",
              "      margin-bottom: 4px;\n",
              "    }\n",
              "\n",
              "    [theme=dark] .colab-df-convert {\n",
              "      background-color: #3B4455;\n",
              "      fill: #D2E3FC;\n",
              "    }\n",
              "\n",
              "    [theme=dark] .colab-df-convert:hover {\n",
              "      background-color: #434B5C;\n",
              "      box-shadow: 0px 1px 3px 1px rgba(0, 0, 0, 0.15);\n",
              "      filter: drop-shadow(0px 1px 2px rgba(0, 0, 0, 0.3));\n",
              "      fill: #FFFFFF;\n",
              "    }\n",
              "  </style>\n",
              "\n",
              "    <script>\n",
              "      const buttonEl =\n",
              "        document.querySelector('#df-f93f45d6-e7c8-4ab7-be2b-7b047e362048 button.colab-df-convert');\n",
              "      buttonEl.style.display =\n",
              "        google.colab.kernel.accessAllowed ? 'block' : 'none';\n",
              "\n",
              "      async function convertToInteractive(key) {\n",
              "        const element = document.querySelector('#df-f93f45d6-e7c8-4ab7-be2b-7b047e362048');\n",
              "        const dataTable =\n",
              "          await google.colab.kernel.invokeFunction('convertToInteractive',\n",
              "                                                    [key], {});\n",
              "        if (!dataTable) return;\n",
              "\n",
              "        const docLinkHtml = 'Like what you see? Visit the ' +\n",
              "          '<a target=\"_blank\" href=https://colab.research.google.com/notebooks/data_table.ipynb>data table notebook</a>'\n",
              "          + ' to learn more about interactive tables.';\n",
              "        element.innerHTML = '';\n",
              "        dataTable['output_type'] = 'display_data';\n",
              "        await google.colab.output.renderOutput(dataTable, element);\n",
              "        const docLink = document.createElement('div');\n",
              "        docLink.innerHTML = docLinkHtml;\n",
              "        element.appendChild(docLink);\n",
              "      }\n",
              "    </script>\n",
              "  </div>\n",
              "\n",
              "\n",
              "<div id=\"df-6537ec2f-de5f-46bf-91ae-f46d7a49cf40\">\n",
              "  <button class=\"colab-df-quickchart\" onclick=\"quickchart('df-6537ec2f-de5f-46bf-91ae-f46d7a49cf40')\"\n",
              "            title=\"Suggest charts\"\n",
              "            style=\"display:none;\">\n",
              "\n",
              "<svg xmlns=\"http://www.w3.org/2000/svg\" height=\"24px\"viewBox=\"0 0 24 24\"\n",
              "     width=\"24px\">\n",
              "    <g>\n",
              "        <path d=\"M19 3H5c-1.1 0-2 .9-2 2v14c0 1.1.9 2 2 2h14c1.1 0 2-.9 2-2V5c0-1.1-.9-2-2-2zM9 17H7v-7h2v7zm4 0h-2V7h2v10zm4 0h-2v-4h2v4z\"/>\n",
              "    </g>\n",
              "</svg>\n",
              "  </button>\n",
              "\n",
              "<style>\n",
              "  .colab-df-quickchart {\n",
              "      --bg-color: #E8F0FE;\n",
              "      --fill-color: #1967D2;\n",
              "      --hover-bg-color: #E2EBFA;\n",
              "      --hover-fill-color: #174EA6;\n",
              "      --disabled-fill-color: #AAA;\n",
              "      --disabled-bg-color: #DDD;\n",
              "  }\n",
              "\n",
              "  [theme=dark] .colab-df-quickchart {\n",
              "      --bg-color: #3B4455;\n",
              "      --fill-color: #D2E3FC;\n",
              "      --hover-bg-color: #434B5C;\n",
              "      --hover-fill-color: #FFFFFF;\n",
              "      --disabled-bg-color: #3B4455;\n",
              "      --disabled-fill-color: #666;\n",
              "  }\n",
              "\n",
              "  .colab-df-quickchart {\n",
              "    background-color: var(--bg-color);\n",
              "    border: none;\n",
              "    border-radius: 50%;\n",
              "    cursor: pointer;\n",
              "    display: none;\n",
              "    fill: var(--fill-color);\n",
              "    height: 32px;\n",
              "    padding: 0;\n",
              "    width: 32px;\n",
              "  }\n",
              "\n",
              "  .colab-df-quickchart:hover {\n",
              "    background-color: var(--hover-bg-color);\n",
              "    box-shadow: 0 1px 2px rgba(60, 64, 67, 0.3), 0 1px 3px 1px rgba(60, 64, 67, 0.15);\n",
              "    fill: var(--button-hover-fill-color);\n",
              "  }\n",
              "\n",
              "  .colab-df-quickchart-complete:disabled,\n",
              "  .colab-df-quickchart-complete:disabled:hover {\n",
              "    background-color: var(--disabled-bg-color);\n",
              "    fill: var(--disabled-fill-color);\n",
              "    box-shadow: none;\n",
              "  }\n",
              "\n",
              "  .colab-df-spinner {\n",
              "    border: 2px solid var(--fill-color);\n",
              "    border-color: transparent;\n",
              "    border-bottom-color: var(--fill-color);\n",
              "    animation:\n",
              "      spin 1s steps(1) infinite;\n",
              "  }\n",
              "\n",
              "  @keyframes spin {\n",
              "    0% {\n",
              "      border-color: transparent;\n",
              "      border-bottom-color: var(--fill-color);\n",
              "      border-left-color: var(--fill-color);\n",
              "    }\n",
              "    20% {\n",
              "      border-color: transparent;\n",
              "      border-left-color: var(--fill-color);\n",
              "      border-top-color: var(--fill-color);\n",
              "    }\n",
              "    30% {\n",
              "      border-color: transparent;\n",
              "      border-left-color: var(--fill-color);\n",
              "      border-top-color: var(--fill-color);\n",
              "      border-right-color: var(--fill-color);\n",
              "    }\n",
              "    40% {\n",
              "      border-color: transparent;\n",
              "      border-right-color: var(--fill-color);\n",
              "      border-top-color: var(--fill-color);\n",
              "    }\n",
              "    60% {\n",
              "      border-color: transparent;\n",
              "      border-right-color: var(--fill-color);\n",
              "    }\n",
              "    80% {\n",
              "      border-color: transparent;\n",
              "      border-right-color: var(--fill-color);\n",
              "      border-bottom-color: var(--fill-color);\n",
              "    }\n",
              "    90% {\n",
              "      border-color: transparent;\n",
              "      border-bottom-color: var(--fill-color);\n",
              "    }\n",
              "  }\n",
              "</style>\n",
              "\n",
              "  <script>\n",
              "    async function quickchart(key) {\n",
              "      const quickchartButtonEl =\n",
              "        document.querySelector('#' + key + ' button');\n",
              "      quickchartButtonEl.disabled = true;  // To prevent multiple clicks.\n",
              "      quickchartButtonEl.classList.add('colab-df-spinner');\n",
              "      try {\n",
              "        const charts = await google.colab.kernel.invokeFunction(\n",
              "            'suggestCharts', [key], {});\n",
              "      } catch (error) {\n",
              "        console.error('Error during call to suggestCharts:', error);\n",
              "      }\n",
              "      quickchartButtonEl.classList.remove('colab-df-spinner');\n",
              "      quickchartButtonEl.classList.add('colab-df-quickchart-complete');\n",
              "    }\n",
              "    (() => {\n",
              "      let quickchartButtonEl =\n",
              "        document.querySelector('#df-6537ec2f-de5f-46bf-91ae-f46d7a49cf40 button');\n",
              "      quickchartButtonEl.style.display =\n",
              "        google.colab.kernel.accessAllowed ? 'block' : 'none';\n",
              "    })();\n",
              "  </script>\n",
              "</div>\n",
              "\n",
              "    </div>\n",
              "  </div>\n"
            ],
            "application/vnd.google.colaboratory.intrinsic+json": {
              "type": "dataframe",
              "variable_name": "df",
              "summary": "{\n  \"name\": \"df\",\n  \"rows\": 56,\n  \"fields\": [\n    {\n      \"column\": \"Text\",\n      \"properties\": {\n        \"dtype\": \"string\",\n        \"num_unique_values\": 56,\n        \"samples\": [\n          \"The team's recent victories have raised suspicions of foul play.\",\n          \"The role of sports in promoting physical fitness and teamwork is invaluable.\",\n          \"The emphasis on winning can create a toxic environment in youth sports.\"\n        ],\n        \"semantic_type\": \"\",\n        \"description\": \"\"\n      }\n    },\n    {\n      \"column\": \"Label\",\n      \"properties\": {\n        \"dtype\": \"number\",\n        \"std\": 0,\n        \"min\": 0,\n        \"max\": 1,\n        \"num_unique_values\": 2,\n        \"samples\": [\n          0,\n          1\n        ],\n        \"semantic_type\": \"\",\n        \"description\": \"\"\n      }\n    }\n  ]\n}"
            }
          },
          "metadata": {},
          "execution_count": 23
        }
      ]
    },
    {
      "cell_type": "code",
      "source": [
        "from sklearn.model_selection import train_test_split\n",
        "X_train, X_test, y_train, y_test = train_test_split(X, y, test_size=0.2, random_state=42)"
      ],
      "metadata": {
        "id": "pmTaa0xocRsX"
      },
      "execution_count": 24,
      "outputs": []
    },
    {
      "cell_type": "code",
      "source": [
        "from keras.models import Sequential\n",
        "from keras.layers import Dense, SimpleRNN, Dropout\n",
        "\n",
        "model=Sequential()\n",
        "model.add(SimpleRNN(128, input_shape=(X_train.shape[1],1),activation='relu',dropout=0.2))\n",
        "model.add(Dense(81, activation='relu'))\n",
        "model.add(Dropout(0.3))\n",
        "\n",
        "model.add(Dense(64, activation='relu'))\n",
        "model.add(Dropout(0.3))\n",
        "\n",
        "model.add(Dense(1, activation='sigmoid'))\n",
        "\n",
        "model.compile(optimizer='adam', loss='binary_crossentropy', metrics=['accuracy'])\n",
        "\n",
        "X_train= X_train.reshape((X_train.shape[0], X_train.shape[1], 1))\n",
        "X_test= X_test.reshape((X_test.shape[0], X_test.shape[1], 1))"
      ],
      "metadata": {
        "colab": {
          "base_uri": "https://localhost:8080/"
        },
        "id": "ESkVw9aPcUey",
        "outputId": "01de1766-268c-4498-8253-54698290d96a"
      },
      "execution_count": 25,
      "outputs": [
        {
          "output_type": "stream",
          "name": "stderr",
          "text": [
            "/usr/local/lib/python3.10/dist-packages/keras/src/layers/rnn/rnn.py:204: UserWarning: Do not pass an `input_shape`/`input_dim` argument to a layer. When using Sequential models, prefer using an `Input(shape)` object as the first layer in the model instead.\n",
            "  super().__init__(**kwargs)\n"
          ]
        }
      ]
    },
    {
      "cell_type": "code",
      "source": [
        "history=model.fit(X_train,y_train,epochs=30,batch_size=32,validation_data=(X_test,y_test))"
      ],
      "metadata": {
        "colab": {
          "base_uri": "https://localhost:8080/"
        },
        "id": "XJTN5TsIcXeL",
        "outputId": "2ef1606d-d888-4535-826e-3eceb9e3f10d"
      },
      "execution_count": 31,
      "outputs": [
        {
          "output_type": "stream",
          "name": "stdout",
          "text": [
            "Epoch 1/30\n",
            "\u001b[1m2/2\u001b[0m \u001b[32m━━━━━━━━━━━━━━━━━━━━\u001b[0m\u001b[37m\u001b[0m \u001b[1m0s\u001b[0m 57ms/step - accuracy: 0.8371 - loss: 0.3030 - val_accuracy: 0.5833 - val_loss: 1.3047\n",
            "Epoch 2/30\n",
            "\u001b[1m2/2\u001b[0m \u001b[32m━━━━━━━━━━━━━━━━━━━━\u001b[0m\u001b[37m\u001b[0m \u001b[1m0s\u001b[0m 24ms/step - accuracy: 0.6629 - loss: 0.4602 - val_accuracy: 0.5833 - val_loss: 1.2594\n",
            "Epoch 3/30\n",
            "\u001b[1m2/2\u001b[0m \u001b[32m━━━━━━━━━━━━━━━━━━━━\u001b[0m\u001b[37m\u001b[0m \u001b[1m0s\u001b[0m 28ms/step - accuracy: 0.7292 - loss: 0.3890 - val_accuracy: 0.5833 - val_loss: 1.2292\n",
            "Epoch 4/30\n",
            "\u001b[1m2/2\u001b[0m \u001b[32m━━━━━━━━━━━━━━━━━━━━\u001b[0m\u001b[37m\u001b[0m \u001b[1m0s\u001b[0m 28ms/step - accuracy: 0.8930 - loss: 0.3337 - val_accuracy: 0.5833 - val_loss: 1.2125\n",
            "Epoch 5/30\n",
            "\u001b[1m2/2\u001b[0m \u001b[32m━━━━━━━━━━━━━━━━━━━━\u001b[0m\u001b[37m\u001b[0m \u001b[1m0s\u001b[0m 24ms/step - accuracy: 0.9186 - loss: 0.2844 - val_accuracy: 0.5833 - val_loss: 1.2228\n",
            "Epoch 6/30\n",
            "\u001b[1m2/2\u001b[0m \u001b[32m━━━━━━━━━━━━━━━━━━━━\u001b[0m\u001b[37m\u001b[0m \u001b[1m0s\u001b[0m 24ms/step - accuracy: 0.7652 - loss: 0.4224 - val_accuracy: 0.5833 - val_loss: 1.2652\n",
            "Epoch 7/30\n",
            "\u001b[1m2/2\u001b[0m \u001b[32m━━━━━━━━━━━━━━━━━━━━\u001b[0m\u001b[37m\u001b[0m \u001b[1m0s\u001b[0m 24ms/step - accuracy: 0.8674 - loss: 0.2954 - val_accuracy: 0.5833 - val_loss: 1.3071\n",
            "Epoch 8/30\n",
            "\u001b[1m2/2\u001b[0m \u001b[32m━━━━━━━━━━━━━━━━━━━━\u001b[0m\u001b[37m\u001b[0m \u001b[1m0s\u001b[0m 25ms/step - accuracy: 0.7907 - loss: 0.3331 - val_accuracy: 0.5833 - val_loss: 1.3402\n",
            "Epoch 9/30\n",
            "\u001b[1m2/2\u001b[0m \u001b[32m━━━━━━━━━━━━━━━━━━━━\u001b[0m\u001b[37m\u001b[0m \u001b[1m0s\u001b[0m 24ms/step - accuracy: 0.7396 - loss: 0.4453 - val_accuracy: 0.5833 - val_loss: 1.4018\n",
            "Epoch 10/30\n",
            "\u001b[1m2/2\u001b[0m \u001b[32m━━━━━━━━━━━━━━━━━━━━\u001b[0m\u001b[37m\u001b[0m \u001b[1m0s\u001b[0m 24ms/step - accuracy: 0.8570 - loss: 0.2780 - val_accuracy: 0.5833 - val_loss: 1.4910\n",
            "Epoch 11/30\n",
            "\u001b[1m2/2\u001b[0m \u001b[32m━━━━━━━━━━━━━━━━━━━━\u001b[0m\u001b[37m\u001b[0m \u001b[1m0s\u001b[0m 25ms/step - accuracy: 0.8419 - loss: 0.2656 - val_accuracy: 0.5833 - val_loss: 1.5762\n",
            "Epoch 12/30\n",
            "\u001b[1m2/2\u001b[0m \u001b[32m━━━━━━━━━━━━━━━━━━━━\u001b[0m\u001b[37m\u001b[0m \u001b[1m0s\u001b[0m 24ms/step - accuracy: 0.7907 - loss: 0.3428 - val_accuracy: 0.5833 - val_loss: 1.5559\n",
            "Epoch 13/30\n",
            "\u001b[1m2/2\u001b[0m \u001b[32m━━━━━━━━━━━━━━━━━━━━\u001b[0m\u001b[37m\u001b[0m \u001b[1m0s\u001b[0m 28ms/step - accuracy: 0.6733 - loss: 0.4149 - val_accuracy: 0.5833 - val_loss: 1.4937\n",
            "Epoch 14/30\n",
            "\u001b[1m2/2\u001b[0m \u001b[32m━━━━━━━━━━━━━━━━━━━━\u001b[0m\u001b[37m\u001b[0m \u001b[1m0s\u001b[0m 25ms/step - accuracy: 0.7348 - loss: 0.4036 - val_accuracy: 0.5833 - val_loss: 1.4276\n",
            "Epoch 15/30\n",
            "\u001b[1m2/2\u001b[0m \u001b[32m━━━━━━━━━━━━━━━━━━━━\u001b[0m\u001b[37m\u001b[0m \u001b[1m0s\u001b[0m 27ms/step - accuracy: 0.7860 - loss: 0.3745 - val_accuracy: 0.5833 - val_loss: 1.3975\n",
            "Epoch 16/30\n",
            "\u001b[1m2/2\u001b[0m \u001b[32m━━━━━━━━━━━━━━━━━━━━\u001b[0m\u001b[37m\u001b[0m \u001b[1m0s\u001b[0m 25ms/step - accuracy: 0.8466 - loss: 0.3395 - val_accuracy: 0.5833 - val_loss: 1.3893\n",
            "Epoch 17/30\n",
            "\u001b[1m2/2\u001b[0m \u001b[32m━━━━━━━━━━━━━━━━━━━━\u001b[0m\u001b[37m\u001b[0m \u001b[1m0s\u001b[0m 28ms/step - accuracy: 0.8883 - loss: 0.3589 - val_accuracy: 0.5833 - val_loss: 1.3645\n",
            "Epoch 18/30\n",
            "\u001b[1m2/2\u001b[0m \u001b[32m━━━━━━━━━━━━━━━━━━━━\u001b[0m\u001b[37m\u001b[0m \u001b[1m0s\u001b[0m 25ms/step - accuracy: 0.8163 - loss: 0.3234 - val_accuracy: 0.5000 - val_loss: 1.3298\n",
            "Epoch 19/30\n",
            "\u001b[1m2/2\u001b[0m \u001b[32m━━━━━━━━━━━━━━━━━━━━\u001b[0m\u001b[37m\u001b[0m \u001b[1m0s\u001b[0m 24ms/step - accuracy: 0.8826 - loss: 0.2892 - val_accuracy: 0.5000 - val_loss: 1.3227\n",
            "Epoch 20/30\n",
            "\u001b[1m2/2\u001b[0m \u001b[32m━━━━━━━━━━━━━━━━━━━━\u001b[0m\u001b[37m\u001b[0m \u001b[1m0s\u001b[0m 27ms/step - accuracy: 0.8826 - loss: 0.2498 - val_accuracy: 0.5833 - val_loss: 1.3289\n",
            "Epoch 21/30\n",
            "\u001b[1m2/2\u001b[0m \u001b[32m━━━━━━━━━━━━━━━━━━━━\u001b[0m\u001b[37m\u001b[0m \u001b[1m0s\u001b[0m 30ms/step - accuracy: 0.8570 - loss: 0.2969 - val_accuracy: 0.5833 - val_loss: 1.3460\n",
            "Epoch 22/30\n",
            "\u001b[1m2/2\u001b[0m \u001b[32m━━━━━━━━━━━━━━━━━━━━\u001b[0m\u001b[37m\u001b[0m \u001b[1m0s\u001b[0m 30ms/step - accuracy: 0.8826 - loss: 0.2518 - val_accuracy: 0.5833 - val_loss: 1.3733\n",
            "Epoch 23/30\n",
            "\u001b[1m2/2\u001b[0m \u001b[32m━━━━━━━━━━━━━━━━━━━━\u001b[0m\u001b[37m\u001b[0m \u001b[1m0s\u001b[0m 32ms/step - accuracy: 0.7348 - loss: 0.3546 - val_accuracy: 0.5833 - val_loss: 1.4031\n",
            "Epoch 24/30\n",
            "\u001b[1m2/2\u001b[0m \u001b[32m━━━━━━━━━━━━━━━━━━━━\u001b[0m\u001b[37m\u001b[0m \u001b[1m0s\u001b[0m 29ms/step - accuracy: 0.8011 - loss: 0.3323 - val_accuracy: 0.5833 - val_loss: 1.4186\n",
            "Epoch 25/30\n",
            "\u001b[1m2/2\u001b[0m \u001b[32m━━━━━━━━━━━━━━━━━━━━\u001b[0m\u001b[37m\u001b[0m \u001b[1m0s\u001b[0m 31ms/step - accuracy: 0.8116 - loss: 0.2976 - val_accuracy: 0.5833 - val_loss: 1.4367\n",
            "Epoch 26/30\n",
            "\u001b[1m2/2\u001b[0m \u001b[32m━━━━━━━━━━━━━━━━━━━━\u001b[0m\u001b[37m\u001b[0m \u001b[1m0s\u001b[0m 29ms/step - accuracy: 0.8570 - loss: 0.2959 - val_accuracy: 0.5833 - val_loss: 1.4369\n",
            "Epoch 27/30\n",
            "\u001b[1m2/2\u001b[0m \u001b[32m━━━━━━━━━━━━━━━━━━━━\u001b[0m\u001b[37m\u001b[0m \u001b[1m0s\u001b[0m 24ms/step - accuracy: 0.7860 - loss: 0.3456 - val_accuracy: 0.5833 - val_loss: 1.4707\n",
            "Epoch 28/30\n",
            "\u001b[1m2/2\u001b[0m \u001b[32m━━━━━━━━━━━━━━━━━━━━\u001b[0m\u001b[37m\u001b[0m \u001b[1m0s\u001b[0m 24ms/step - accuracy: 0.8778 - loss: 0.2513 - val_accuracy: 0.5833 - val_loss: 1.5376\n",
            "Epoch 29/30\n",
            "\u001b[1m2/2\u001b[0m \u001b[32m━━━━━━━━━━━━━━━━━━━━\u001b[0m\u001b[37m\u001b[0m \u001b[1m0s\u001b[0m 26ms/step - accuracy: 0.8116 - loss: 0.3310 - val_accuracy: 0.5833 - val_loss: 1.5495\n",
            "Epoch 30/30\n",
            "\u001b[1m2/2\u001b[0m \u001b[32m━━━━━━━━━━━━━━━━━━━━\u001b[0m\u001b[37m\u001b[0m \u001b[1m0s\u001b[0m 29ms/step - accuracy: 0.8826 - loss: 0.2322 - val_accuracy: 0.5833 - val_loss: 1.5142\n"
          ]
        }
      ]
    },
    {
      "cell_type": "code",
      "source": [
        "import matplotlib.pyplot as plt\n",
        "plt.plot(history.history['accuracy'])\n",
        "plt.plot(history.history['val_accuracy'])\n",
        "plt.title('model accuracy')\n",
        "plt.ylabel('accuracy')\n",
        "plt.xlabel('epoch')\n",
        "plt.legend(['train', 'test'], loc='upper left')\n",
        "plt.show()"
      ],
      "metadata": {
        "colab": {
          "base_uri": "https://localhost:8080/",
          "height": 472
        },
        "id": "Jbfn_K5Wcb_0",
        "outputId": "513ea6b8-0147-47a2-cbdc-d65f917a175b"
      },
      "execution_count": 32,
      "outputs": [
        {
          "output_type": "display_data",
          "data": {
            "text/plain": [
              "<Figure size 640x480 with 1 Axes>"
            ],
            "image/png": "[encoded data removed]"
          },
          "metadata": {}
        }
      ]
    },
    {
      "cell_type": "code",
      "source": [
        "new_text = [\n",
        "    \"Team sports encourage collaboration and communication skills.\",\n",
        "    \"The pressure to win in sports can overshadow the enjoyment of playing the game.\",\n",
        "]"
      ],
      "metadata": {
        "id": "5qlc-R7XchRW"
      },
      "execution_count": 33,
      "outputs": []
    },
    {
      "cell_type": "code",
      "source": [
        "new_seq=tokens.texts_to_sequences(new_text)\n",
        "new_pad=pad_sequences(new_seq, maxlen=6, padding='post', truncating='post')\n",
        "pred=model.predict(new_pad)\n",
        "for i,p in enumerate(pred):\n",
        "  print(f\"Text: {new_text[i]}\")\n",
        "  print(f\"Prediction: {p[0]:4f} ({'Positive' if p[0]>0.5 else 'Negative'})\\n\")"
      ],
      "metadata": {
        "colab": {
          "base_uri": "https://localhost:8080/"
        },
        "id": "DShfTD9JdT0l",
        "outputId": "301b8166-ae5d-4f0a-d9ab-97e9ecb6d0c8"
      },
      "execution_count": 34,
      "outputs": [
        {
          "output_type": "stream",
          "name": "stdout",
          "text": [
            "\u001b[1m1/1\u001b[0m \u001b[32m━━━━━━━━━━━━━━━━━━━━\u001b[0m\u001b[37m\u001b[0m \u001b[1m1s\u001b[0m 758ms/step\n",
            "Text: Team sports encourage collaboration and communication skills.\n",
            "Prediction: 0.891553 (Positive)\n",
            "\n",
            "Text: The pressure to win in sports can overshadow the enjoyment of playing the game.\n",
            "Prediction: 0.098892 (Negative)\n",
            "\n"
          ]
        }
      ]
    }
  ]
}